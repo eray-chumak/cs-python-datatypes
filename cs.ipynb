{
 "cells": [
  {
   "cell_type": "markdown",
   "metadata": {},
   "source": [
    "# Introduction\n",
    "\n",
    "We use variables in our programs to store data.  Each variable has a name and stores data of a certain type (string, integer, real etc).  In Python we do not have to explicitly state the data type being stored, it will work this out for itself when the variable is first used.  In this section we will just use string variables.  String is the programming term for text (i.e. letters, numbers and symbols).\n",
    "Variable names can contain letters and numbers but should always start with a letter.\n",
    "We assign a value to a variable using =\n",
    "\n",
    "Task 1"
   ]
  },
  {
   "cell_type": "code",
   "execution_count": 1,
   "metadata": {},
   "outputs": [
    {
     "name": "stdout",
     "output_type": "stream",
     "text": [
      "Hello Bob\n"
     ]
    }
   ],
   "source": [
    "# run the following lines of code:\n",
    "name = 'Bob'\n",
    "print(f'Hello {name}')"
   ]
  },
  {
   "cell_type": "markdown",
   "metadata": {},
   "source": [
    "## Calculations\n",
    "\n",
    "We can carry out calculations in Python.  The arithmetic operators we use to do this are:\n",
    " (+)  addition\n",
    " (-)  subtraction\n",
    " (*)  multiplication\n",
    " (/) division\n",
    " \n",
    "Task 2"
   ]
  },
  {
   "cell_type": "code",
   "execution_count": 2,
   "metadata": {},
   "outputs": [
    {
     "name": "stdout",
     "output_type": "stream",
     "text": [
      "7\n",
      "2\n",
      "27\n",
      "3.5\n"
     ]
    }
   ],
   "source": [
    "# Copy and run the following lines of code\n",
    "print(1 + 6)\n",
    "print(7 - 5)\n",
    "print(3 * 9)\n",
    "print(7 / 2)"
   ]
  },
  {
   "cell_type": "markdown",
   "metadata": {},
   "source": [
    "Task 3\n",
    "Try changing the calculations to new ones.\n",
    " \n",
    "We can put the results of calculations into variables.  These variables will not be string but integer (whole numbers) or float (decimal)."
   ]
  },
  {
   "cell_type": "code",
   "execution_count": 3,
   "metadata": {},
   "outputs": [
    {
     "name": "stdout",
     "output_type": "stream",
     "text": [
      "5.0\n"
     ]
    }
   ],
   "source": [
    "a = 10\n",
    "b = 2\n",
    "c = a / b\n",
    "print(c)"
   ]
  },
  {
   "cell_type": "markdown",
   "metadata": {},
   "source": [
    "## Datatypes\n",
    "Every variable has a given data type.  The most common data types are:\n",
    " \n",
    "String  - Text made up of numbers, letters and characters.\n",
    "\n",
    "Integer - Whole numbers. (e.g. 1, 78, 0 and -54)\n",
    "\n",
    "Float - Decimal numbers (e.g. 3.5683, 98.74634, -6.3).  Float comes under the umbrella of what we often refer to as Real numbers.\n",
    "\n",
    "Boolean - True or False\n",
    " \n",
    "In some languages we have to tell the computer what data type a variable is going to be.  Python, on the other hand, is able to decide the data type of the variable according to what value it is first given (or to use the correct term what it is initialised with). This can cause problems when we try to do something with the wrong data type.\n",
    " \n",
    "Copy and run the following program. "
   ]
  },
  {
   "cell_type": "code",
   "execution_count": 4,
   "metadata": {},
   "outputs": [
    {
     "name": "stdout",
     "output_type": "stream",
     "text": [
      "Enter number 1: 3\n",
      "Enter number 2: 3\n",
      "Adding your numbers together gives: 6\n"
     ]
    }
   ],
   "source": [
    "a = int(input('Enter number 1: '))\n",
    "b = int(input('Enter number 2: '))\n",
    "c = a + b\n",
    "print(f'Adding your numbers together gives: {c}')"
   ]
  },
  {
   "cell_type": "markdown",
   "metadata": {},
   "source": [
    "If you enter the numbers 5 and 4 it will output 54.  This is because Python treats anything received through the input function as a string.  We need to tell Python we want to convert this string to an integer before putting it into the variable.  This is done using type casting.\n",
    " \n",
    "To cast data to an integer we use int()\n",
    " \n",
    "Try the program now:"
   ]
  },
  {
   "cell_type": "code",
   "execution_count": 5,
   "metadata": {},
   "outputs": [
    {
     "name": "stdout",
     "output_type": "stream",
     "text": [
      "Enter number 1: 3\n",
      "Enter number 2: 3\n",
      "Adding your numbers together gives: 6\n"
     ]
    }
   ],
   "source": [
    "a = int(input('Enter number 1: '))\n",
    "b = int(input('Enter number 2: '))\n",
    "c = a + b\n",
    "print(f'Adding your numbers together gives: {c}')"
   ]
  },
  {
   "cell_type": "markdown",
   "metadata": {},
   "source": [
    "This time you will get an error in line 4:\n",
    "TypeError: Can't convert 'int' object to str implicitly\n",
    " \n",
    "Explain why and write down the reason. "
   ]
  },
  {
   "cell_type": "markdown",
   "metadata": {},
   "source": [
    "## Mathematical operators\n",
    " \n",
    "Task 4 Try using the following operators and note down the results"
   ]
  },
  {
   "cell_type": "markdown",
   "metadata": {},
   "source": [
    "60/5\n",
    "\n",
    "987+34\n",
    "\n",
    "564*89\n",
    "\n",
    "2**5\n",
    "\n",
    "43-5\n",
    "\n",
    "11//2\n",
    "\n",
    "11%2"
   ]
  },
  {
   "cell_type": "code",
   "execution_count": 6,
   "metadata": {},
   "outputs": [
    {
     "name": "stdout",
     "output_type": "stream",
     "text": [
      "12.0\n",
      "1021\n",
      "50196\n",
      "32\n",
      "38\n",
      "5.5\n",
      "1\n"
     ]
    }
   ],
   "source": [
    "print(60 / 5)\n",
    "print(987 + 34)\n",
    "print(564 * 89)\n",
    "print(2 ** 5)\n",
    "print(43 - 5)\n",
    "print(11 / 2)\n",
    "print(11 % 2)"
   ]
  },
  {
   "cell_type": "markdown",
   "metadata": {},
   "source": [
    "# Task 5\n",
    "Calculate cost of carpet where the user provides the length and width of the carpet. The price of the carpet is £10 per square meter."
   ]
  },
  {
   "cell_type": "code",
   "execution_count": null,
   "metadata": {},
   "outputs": [],
   "source": [
    "def solve_carp_cost(length, width):\n",
    "    if length <= 0 or width <= 0: raise ValueError(\"The length or width has to be above 0.\")\n",
    "    def solved(): \n",
    "            return [length + width, (length + width) * 10]\n",
    "    class steps:\n",
    "        first = f\"[1] {length} + {width} = {solved()[0]}\"\n",
    "        second = f\"[2] {solved()[0]} * 10 = {solved()[1]}\"\n",
    "    return [steps, solved()[1]]\n",
    "\n",
    "def ask_input():\n",
    "    try:\n",
    "        print(\"\\nCARPET COST\\n\")\n",
    "        length = float(input(\"Enter the length of carpet in metres: \"))\n",
    "        width = float(input(\"Enter the width of the carpet in metres: \"))\n",
    "        result = solve_carp_cost(length, width)\n",
    "        steps = [result[0].first, result[0].second]\n",
    "        print(\"\\nSTEPS:\\n\")\n",
    "        for step in steps: print(step)\n",
    "        print(f\"\\nRESULT: {result[1]}\")\n",
    "    except ValueError:\n",
    "        print(\"\\nValue has to be an integer above 0\")\n",
    "        ask_input()\n",
    "\n",
    "ask_input()"
   ]
  },
  {
   "cell_type": "markdown",
   "metadata": {},
   "source": [
    "### Task 6\n",
    "Calculate volume of a cylinder when radius and height is given and print the volume"
   ]
  },
  {
   "cell_type": "code",
   "execution_count": null,
   "metadata": {},
   "outputs": [],
   "source": [
    "def solve_vol_cyl(radius, height):\n",
    "    if radius <= 0 or height <= 0: raise ValueError(\"The radius or height has to be above 0.\")\n",
    "    def solved(): \n",
    "            return [radius * radius, radius * radius * height, radius * radius * height * 3.142]\n",
    "    class steps:\n",
    "        first = f\"[1] {radius} * {radius} = {solved()[0]}\"\n",
    "        second = f\"[2] {solved()[0]} * {height} = {solved()[1]}\"\n",
    "        third = f\"[3] {solved()[1]} * 3.142 = {solved()[2]}\"\n",
    "    return [steps, solved()[2]]\n",
    "\n",
    "def ask_input():\n",
    "    try:\n",
    "        print(\"\\nVOLUME OF CYLINDER\\n\")\n",
    "        radius = float(input(\"RADIUS: \"))\n",
    "        height = float(input(\"FLOAT: \"))\n",
    "        result = solve_area_cir(radius, height)\n",
    "        steps = [result[0].first, result[0].second, result[0].third]\n",
    "        print(\"\\nSTEPS:\\n\")\n",
    "        for step in steps: print(step)\n",
    "        print(f\"\\nRESULT: {result[1]}\")\n",
    "    except ValueError:\n",
    "        print(\"\\nValue has to be an integer above 0.\")\n",
    "        ask_input()\n",
    "\n",
    "ask_input()"
   ]
  },
  {
   "cell_type": "markdown",
   "metadata": {},
   "source": [
    "### Task 7\n",
    "Write a Python program which accepts the radius of a circle from the user and compute the area. "
   ]
  },
  {
   "cell_type": "code",
   "execution_count": null,
   "metadata": {},
   "outputs": [],
   "source": [
    "def solve_area_cir(radius):\n",
    "    if radius <= 0: raise ValueError(\"The radius has to be above 0.\")\n",
    "    def solved(): \n",
    "            return [radius * radius, (radius * radius) * 3.142]\n",
    "    class steps:\n",
    "        first = f\"[1] {radius} * {radius} = {solved()[0]}\"\n",
    "        second = f\"[2] {solved()[0]} * 3.142 = {solved()[1]}\"\n",
    "    return [steps, solved()[1]]\n",
    "\n",
    "def ask_input():\n",
    "    try:\n",
    "        print(\"\\nAREA OF CIRCLE\\n\")\n",
    "        result = solve_area_cir(float(input(\"RADIUS: \")))\n",
    "        steps = [result[0].first, result[0].second]\n",
    "        print(\"\\nSTEPS:\\n\")\n",
    "        for step in steps: print(step)\n",
    "        print(f\"\\nRESULT: {result[1]}\")\n",
    "    except ValueError:\n",
    "        print(\"\\nValue has to be an integer above 0.\")\n",
    "        ask_input()\n",
    "\n",
    "ask_input()"
   ]
  },
  {
   "cell_type": "markdown",
   "metadata": {},
   "source": [
    "### Task 8\n",
    "Write a Python program to compute the future value of a specified principal amount, rate of interest, and a number of years."
   ]
  },
  {
   "cell_type": "code",
   "execution_count": null,
   "metadata": {},
   "outputs": [],
   "source": [
    "def solve_future_bal(original, multiplier, years):\n",
    "    if original <= 0 or multiplier <= 0 or years <= 0: raise ValueError(\"All values have to be above 0.\")\n",
    "    def solved():\n",
    "            return [multiplier ** years, original * (multiplier ** years)]\n",
    "    class steps:\n",
    "        first = f\"[1] {multiplier} ** {years} = {solved()[0]}\"\n",
    "        second = f\"[2] {original} * {solved()[0]} = {solved()[1]}\"\n",
    "    return [steps, solved()[1]]\n",
    "\n",
    "def ask_input():\n",
    "    try:\n",
    "        print(\"\\nBALANCE IN THE FUTURE\\n\")\n",
    "        o = float(input(\"ORIGINAL: \"))\n",
    "        m = float(input(\"MULTIPLIER: \"))\n",
    "        y = float(input(\"YEARS: \"))\n",
    "        result = solve_future_bal(o, m, y)\n",
    "        steps = [result[0].first, result[0].second]\n",
    "        print(\"\\nSTEPS:\\n\")\n",
    "        for step in steps: print(step)\n",
    "        print(f\"\\nRESULT: {result[1]}\")\n",
    "    except ValueError:\n",
    "        print(\"\\nValue has to be an integer/float above 0.\")\n",
    "        ask_input()\n",
    "\n",
    "ask_input()"
   ]
  },
  {
   "cell_type": "markdown",
   "metadata": {},
   "source": [
    "### Task 9 \n",
    "Write a program to ask the user to enter three numbers and find the largest number from a set of three numbers."
   ]
  },
  {
   "cell_type": "code",
   "execution_count": 5,
   "metadata": {},
   "outputs": [
    {
     "name": "stdout",
     "output_type": "stream",
     "text": [
      "\n",
      "LARGEST NUMBER IN ARRAY\n",
      "\n",
      "FIRST: 1\n",
      "SECOND: 10\n",
      "THIRD: 3\n",
      "\n",
      "RESULT: 10.0\n"
     ]
    }
   ],
   "source": [
    "def largest_number(array):\n",
    "    if len(array) <= 0: raise ValueError(\"Array needs to contain at-least one number.\")\n",
    "    return max(array)\n",
    "\n",
    "def ask_input():\n",
    "    try:\n",
    "        print(\"\\nLARGEST NUMBER IN ARRAY\\n\")\n",
    "        f = float(input(\"FIRST: \"))\n",
    "        s = float(input(\"SECOND: \"))\n",
    "        t = float(input(\"THIRD: \"))\n",
    "        result = largest_number([f, s, t])\n",
    "        print(f\"\\nRESULT: {result}\")\n",
    "    except ValueError:\n",
    "        print(\"\\nValue has to be an integer/float above 0.\")\n",
    "        ask_input()\n",
    "\n",
    "ask_input()"
   ]
  },
  {
   "cell_type": "markdown",
   "metadata": {},
   "source": [
    "### Extension Task\n",
    "Write a program to generate and print all 3-digit numbers that equal the sum of the cubes of their individual decimal digits."
   ]
  },
  {
   "cell_type": "code",
   "execution_count": null,
   "metadata": {},
   "outputs": [],
   "source": [
    "# the code is repeated to \n",
    "for i in range (100,1000):\n",
    "    # explain what the following lines of code are trying to do\n",
    "    hundreds = i // 100\n",
    "    units = i % 10\n",
    "    j = i // 10\n",
    "    tens = j % 10\n",
    "    \n",
    "# add your code here\n"
   ]
  }
 ],
 "metadata": {
  "kernelspec": {
   "display_name": "Python 3",
   "language": "python",
   "name": "python3"
  },
  "language_info": {
   "codemirror_mode": {
    "name": "ipython",
    "version": 3
   },
   "file_extension": ".py",
   "mimetype": "text/x-python",
   "name": "python",
   "nbconvert_exporter": "python",
   "pygments_lexer": "ipython3",
   "version": "3.6.5"
  }
 },
 "nbformat": 4,
 "nbformat_minor": 2
}
